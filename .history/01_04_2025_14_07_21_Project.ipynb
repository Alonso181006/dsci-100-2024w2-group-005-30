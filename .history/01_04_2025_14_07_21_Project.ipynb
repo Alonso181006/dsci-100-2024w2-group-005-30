{
 "cells": [
  {
   "cell_type": "code",
   "execution_count": null,
   "id": "569509d7-e641-4f2f-801f-cad7703e2ad5",
   "metadata": {},
   "outputs": [],
   "source": [
    "### Run this cell before continuing. \n",
    "library(tidyverse)\n",
    "library(repr)\n",
    "library(RColorBrewer)\n",
    "library(gridExtra)\n",
    "options(repr.matrix.max.rows = 6)\n",
    "source(\"cleanup.R\")\n",
    "set.seed(1)"
   ]
  },
  {
   "cell_type": "code",
   "execution_count": null,
   "id": "e7a19cd8-56dd-4807-90ca-6260cff5482d",
   "metadata": {},
   "outputs": [],
   "source": [
    "players_url <- \"https://raw.githubusercontent.com/Alonso181006/Individual-Project/refs/heads/main/players.csv\"\n",
    "sessions_url <- \"https://raw.githubusercontent.com/Alonso181006/Individual-Project/refs/heads/main/sessions.csv\"\n",
    "players_data <- read_csv(players_url)\n",
    "sessions_data <- read_csv(sessions_url)\n",
    "players_data <- players_data"
   ]
  },
  {
   "cell_type": "code",
   "execution_count": null,
   "id": "3d573cbf-7046-4b8f-8b47-cffc12688946",
   "metadata": {},
   "outputs": [],
   "source": [
    "# Wrangling Data for the Plot\n",
    "players_data_ranks <- players_data |>\n",
    "    mutate(rank = as.integer(factor(experience, \n",
    "                                      levels = c(\"Beginner\", \"Amateur\", \"Regular\", \"Veteran\", \"Pro\"))))\n",
    "\n",
    "# Finding average played hours based on rank and subscription\n",
    "players_data_avg_hours <- players_data_ranks |>\n",
    "  group_by(rank, subscribe) |>\n",
    "  summarise(mean_hours = mean(played_hours, na.rm = TRUE)) |>\n",
    "  ungroup()\n",
    "\n",
    "# Visualize average hours against experience level\n",
    "players_plot_outliers <- players_data_avg_hours |>\n",
    "    ggplot(aes(x = rank, y = mean_hours, color = subscribe)) +\n",
    "    geom_line() +\n",
    "    geom_point(size = 3) +\n",
    "    labs(x = \"Experience Level\", y = \"Mean Hours Played\", color = \"Subscription\", title = \"Avg Hrs Played by Rank and Subscription (Outliers)\") +\n",
    "    theme(text = element_text(size = 14))\n",
    "players_plot_outliers\n",
    "\n",
    "# Remove Outliers\n",
    "players_data_low_hours <- players_data_ranks |>\n",
    "    filter(played_hours < 5)\n",
    "\n",
    "# Finding average played hours based on rank and subscription without outliers\n",
    "players_data_avg_low_hours <- players_data_low_hours |>\n",
    "  group_by(rank, subscribe) |>\n",
    "  summarise(mean_hours = mean(played_hours, na.rm = TRUE)) |>\n",
    "  ungroup()\n",
    "\n",
    "# Visualize average hours against experience level\n",
    "players_plot_no_outliers <- players_data_avg_low_hours |>\n",
    "    ggplot(aes(x = rank, y = mean_hours, color = subscribe)) +\n",
    "    geom_line() +\n",
    "    geom_point(size = 3) +\n",
    "    labs(x = \"Experience Level\", y = \"Mean Hours Played\", color = \"Subscription\", title = \"Avg Hrs Played by Rank and Subscription (No Outliers)\") +\n",
    "    theme(text = element_text(size = 14))\n",
    "players_plot_no_outliers"
   ]
  },
  {
   "cell_type": "code",
   "execution_count": null,
   "id": "6d5bec36-9bfc-4db8-a6af-943ce9a0d20b",
   "metadata": {},
   "outputs": [],
   "source": []
  },
  {
   "cell_type": "code",
   "execution_count": null,
   "id": "6a70aef2-1cb8-4900-90e4-b58774e94758",
   "metadata": {},
   "outputs": [],
   "source": []
  }
 ],
 "metadata": {
  "kernelspec": {
   "display_name": "R",
   "language": "R",
   "name": "ir"
  },
  "language_info": {
   "codemirror_mode": "r",
   "file_extension": ".r",
   "mimetype": "text/x-r-source",
   "name": "R",
   "pygments_lexer": "r",
   "version": "4.3.3"
  }
 },
 "nbformat": 4,
 "nbformat_minor": 5
}
