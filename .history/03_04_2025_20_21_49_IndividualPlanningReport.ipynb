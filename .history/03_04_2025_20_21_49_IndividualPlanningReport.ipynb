{
 "cells": [
  {
   "cell_type": "markdown",
   "id": "a8b47981-f7f4-4a5d-ad0d-109f4479c934",
   "metadata": {},
   "source": [
    "# Individual Project"
   ]
  },
  {
   "cell_type": "markdown",
   "id": "182d5e6f-73d7-4f47-9ae3-eeb30347bb71",
   "metadata": {},
   "source": [
    "### Data Loading"
   ]
  },
  {
   "cell_type": "code",
   "execution_count": null,
   "id": "1564a8e4-3eb8-4794-8d7b-c0f6d68dd415",
   "metadata": {},
   "outputs": [],
   "source": [
    "### Run this cell before continuing. \n",
    "library(tidyverse)\n",
    "library(repr)\n",
    "library(RColorBrewer)\n",
    "library(gridExtra)\n",
    "options(repr.matrix.max.rows = 6)\n",
    "source(\"cleanup.R\")"
   ]
  },
  {
   "cell_type": "code",
   "execution_count": null,
   "id": "e820d106-0c65-4c5a-a63b-2dde57f204f9",
   "metadata": {},
   "outputs": [],
   "source": [
    "players_url <- \"https://raw.githubusercontent.com/Alonso181006/Individual-Project/refs/heads/main/players.csv\"\n",
    "sessions_url <- \"https://raw.githubusercontent.com/Alonso181006/Individual-Project/refs/heads/main/sessions.csv\"\n",
    "players_data <- read_csv(players_url)\n",
    "sessions_data <- read_csv(sessions_url)\n",
    "players_data <- players_data"
   ]
  },
  {
   "cell_type": "markdown",
   "id": "7a42d4f3-bdbb-4ee8-a231-d2f0f9daa920",
   "metadata": {},
   "source": [
    "## Data Description - players.csv"
   ]
  },
  {
   "cell_type": "markdown",
   "id": "a58f697a-bbd7-4819-aaec-9c02c085b553",
   "metadata": {},
   "source": [
    "### General Information\n",
    "- Number of observations: 196\n",
    "- Number of variables: 7\n",
    "- Missing values in Age column (2 missing entries)."
   ]
  },
  {
   "cell_type": "markdown",
   "id": "e6a4b881-df64-4ecb-b25e-6c67ad9122bb",
   "metadata": {},
   "source": [
    "### Statistic Summary"
   ]
  },
  {
   "cell_type": "code",
   "execution_count": null,
   "id": "485d41e8-dc45-4293-bda3-2854d1175d65",
   "metadata": {},
   "outputs": [],
   "source": [
    "general_summary_table <- players_data |>\n",
    "  summarize(mean_played_hours = mean(played_hours, na.rm = TRUE),\n",
    "            mean_Age = mean(age, na.rm = TRUE))\n",
    "general_summary_table"
   ]
  },
  {
   "cell_type": "markdown",
   "id": "9e40bab4-b64f-4ce9-9a80-39950323f006",
   "metadata": {},
   "source": [
    "### Key Observations"
   ]
  },
  {
   "cell_type": "markdown",
   "id": "56a6fce3-9bac-4426-b33e-186bfb4fa9cc",
   "metadata": {
    "jp-MarkdownHeadingCollapsed": true
   },
   "source": [
    "#### Strengths:\n",
    "- Dataset has no missing values in metrics like played_hours and experience that could be key in analysis.\n",
    "- The hashed_email variable ensures each player is uniquely associated to their data.\n",
    "\n",
    "#### Weaknesses: \n",
    "- Their are outliers within played_hours, as only 15 players played above 5 hours.\n",
    "- Data collection may be flawed due to participants in the survey incorrectly selecting for variables like age and experience level.\n",
    "- Ambiguity in defining experience categories which may impact predictive modeling."
   ]
  },
  {
   "cell_type": "markdown",
   "id": "477e5e4e-8a8c-40b1-95c9-6ff394cafc9b",
   "metadata": {},
   "source": [
    "#### Variable Table"
   ]
  },
  {
   "cell_type": "markdown",
   "id": "8a1a918f-12a7-4b85-8c6a-c13b239cee3f",
   "metadata": {},
   "source": [
    "| Variable    | Type      | Description                                    | Unique Values                        | Notes |\n",
    "|:------------|:----------|:-----------------------------------------------|:-------------------------------------|:---------------------------------------|\n",
    "| Experience  | character | Player's experiennce level                     | Veteran/Pro/Amateur/Regular/Beginner | No clear criteria for experience level |\n",
    "| Subscribe   | logical   | Whether the player is subscribed to the game-related newsletter  | True/False         | N/A                                    |\n",
    "| HashedEmail | character | Unique set of characters associated with email | 196 values                           | No duplicates                          |\n",
    "| Played_hours| double    | Total hours played by the player               | 0.0 to 223.1                         | Most Under 5 Played Hours              |\n",
    "| Name        | character | Player's name                                  | 196 values                           | Not relevant to analysis               | \n",
    "| Gender|character|Player's gender identity|Male/Female/Other/Non-binary/Agender/Two-Spirited/PreferNotToSay| Minimally relevant to analysis due class imbalance|\n",
    "| Age         | double    | Player's age                                   | 8 to 50                              | Can User's avoid inputting their age?  |"
   ]
  },
  {
   "cell_type": "markdown",
   "id": "0c13170d-7ba6-4fca-a2a2-dbd2f18d31f3",
   "metadata": {},
   "source": [
    "### Questions"
   ]
  },
  {
   "cell_type": "markdown",
   "id": "4b55aa8c-dceb-4dc7-9661-c01fef1f653e",
   "metadata": {},
   "source": [
    "**Question**: We would like to know which \"kinds\" of players are most likely to contribute a large amount of data so that we can target those players in our recruiting efforts.  \n",
    "**Predictive Question**: Can we predict which players are most likely to contribute a large amount of data(played_hours) based on the experience and subscription variables?\n",
    "\n",
    "We want to attract the players who play the most on the server, so metrics such as their experience level and commitment to the project based on a newsletter subscription may be key indicators. Since both variables are characters, I will have to refactor both columns to utilize them in a regression model to predict the quantitative value of played_hours."
   ]
  },
  {
   "cell_type": "markdown",
   "id": "11862446-4f34-4e13-86a2-d7f250fcd3c9",
   "metadata": {},
   "source": [
    "### Exploratory Data Analysis and Visualization"
   ]
  },
  {
   "cell_type": "code",
   "execution_count": null,
   "id": "07923d71-3a1e-4121-bf40-28f44a8fa4d7",
   "metadata": {},
   "outputs": [],
   "source": [
    "grouped_summary_table <- players_data |>\n",
    "    group_by(experience, subscribe) |>\n",
    "  summarize( mean_played_hours = mean(played_hours, na.rm = TRUE),\n",
    "            mean_Age = mean(age, na.rm = TRUE))\n",
    "grouped_summary_table"
   ]
  },
  {
   "cell_type": "code",
   "execution_count": null,
   "id": "5198bee8-36af-498f-be41-5b1f60d927aa",
   "metadata": {},
   "outputs": [],
   "source": [
    "# Visualize the distribution of age\n",
    "age_plot <- ggplot(players_data, aes(x = age)) + \n",
    "    geom_histogram(binwidth = 1, fill = \"light blue\", color = \"black\") + \n",
    "    labs(title = \"Distribution of Player Age\", x = \"Age of Player (yr)\", y = \"Frequency\") +\n",
    "    theme(text = element_text(size = 15))\n",
    "age_plot"
   ]
  },
  {
   "cell_type": "markdown",
   "id": "57589a85-8d72-4661-81f8-c5396ac36cd5",
   "metadata": {},
   "source": [
    "Initially, I was going to use age as an explanatory variable, but since there is an imbalance in the distribution, I don't think it will help when modelling. "
   ]
  },
  {
   "cell_type": "code",
   "execution_count": null,
   "id": "4a97ca22-902a-4d0a-a1d1-7f43cf52e300",
   "metadata": {},
   "outputs": [],
   "source": [
    "# Visualize the frequency of each type of experience level and ratio of subscription\n",
    "experience_frq_plot <- ggplot(players_data, aes(x = experience, fill = subscribe)) + \n",
    "    geom_bar(color = \"black\", alpha = 0.7) + \n",
    "    scale_fill_brewer(palette = \"Purples\") +\n",
    "    labs(x = \"Experience of Player (self-identified)\", y = \"Frequency\", fill = \"Subscription\", title = \"Distribution of Player Experience\") +\n",
    "    theme(text = element_text(size = 15))\n",
    "experience_frq_plot"
   ]
  },
  {
   "cell_type": "markdown",
   "id": "05ab1b9e-ca95-475e-8634-9d088d89ddbf",
   "metadata": {},
   "source": [
    "Most of the individuals in the data set are suprisinly subscribed to the newsletter, with similar proportions of TRUE and FALSE across all the levels of experience."
   ]
  },
  {
   "cell_type": "code",
   "execution_count": null,
   "id": "a7b17151-3a00-482d-bb3e-d9b8bdbf25ea",
   "metadata": {},
   "outputs": [],
   "source": [
    "# Wrangling Data for the Plot\n",
    "players_data_ranks <- players_data |>\n",
    "    mutate(rank = as.integer(factor(experience, \n",
    "                                      levels = c(\"Beginner\", \"Amateur\", \"Regular\", \"Veteran\", \"Pro\"))))\n",
    "\n",
    "# Finding average played hours based on rank and subscription\n",
    "players_data_avg_hours <- players_data_ranks |>\n",
    "  group_by(rank, subscribe) |>\n",
    "  summarise(mean_hours = mean(played_hours, na.rm = TRUE)) |>\n",
    "  ungroup()\n",
    "\n",
    "# Visualize average hours against experience level\n",
    "players_plot_outliers <- players_data_avg_hours |>\n",
    "    ggplot(aes(x = rank, y = mean_hours, color = subscribe)) +\n",
    "    geom_line() +\n",
    "    geom_point(size = 3) +\n",
    "    labs(x = \"Experience Level\", y = \"Mean Hours Played\", color = \"Subscription\", title = \"Avg Hrs Played by Rank and Subscription (Outliers)\") +\n",
    "    theme(text = element_text(size = 14))\n",
    "players_plot_outliers\n",
    "\n",
    "# Remove Outliers\n",
    "players_data_low_hours <- players_data_ranks |>\n",
    "    filter(played_hours < 5)\n",
    "\n",
    "# Finding average played hours based on rank and subscription without outliers\n",
    "players_data_avg_low_hours <- players_data_low_hours |>\n",
    "  group_by(rank, subscribe) |>\n",
    "  summarise(mean_hours = mean(played_hours, na.rm = TRUE)) |>\n",
    "  ungroup()\n",
    "\n",
    "# Visualize average hours against experience level\n",
    "players_plot_no_outliers <- players_data_avg_low_hours |>\n",
    "    ggplot(aes(x = rank, y = mean_hours, color = subscribe)) +\n",
    "    geom_line() +\n",
    "    geom_point(size = 3) +\n",
    "    labs(x = \"Experience Level\", y = \"Mean Hours Played\", color = \"Subscription\", title = \"Avg Hrs Played by Rank and Subscription (No Outliers)\") +\n",
    "    theme(text = element_text(size = 14))\n",
    "players_plot_no_outliers"
   ]
  },
  {
   "cell_type": "markdown",
   "id": "efef9da0-bfa1-4506-b61c-51688eb4b73e",
   "metadata": {},
   "source": [
    "These graphs help illustrate how the experience level and whether or not a player is subscribed to the newsletter will impact the amount of time played. There is a clear distinction not only based on the experience level but also based on the subscribe variable. Nevertheless, the second plot removed the outliers to visualize the relationship without them."
   ]
  },
  {
   "cell_type": "markdown",
   "id": "9b5a647d-a25c-48ea-b5ff-a7a5001a8a00",
   "metadata": {},
   "source": [
    "### Methods and Plans"
   ]
  },
  {
   "cell_type": "markdown",
   "id": "535c28fb-4ae8-4598-86f7-e51b049a6a8f",
   "metadata": {},
   "source": [
    "I propose using k-nearest neighbours regression to predict the number of hours played, as regression is utilized to predict strictly quantitative values. Linear regression was rejected due to outliers having too much influence on the line of best fit, and this small data set has numerous. A strength of K-NN regression is that it is a simple algorithm that requires few assumptions outside of scaling the data. However, a limitation of KNN is its poor performance when predicting values outside the training range, and with larger data sets, it becomes slow. In terms of assessing performance and finding a neighbour value, I’ll evaluate the metrics RMSE and RMSPE. Specifically, I’ll first start by splitting the dataset into 75% for training and 25% for testing, based on the played_hours. Then, I’ll use 5-set cross-validation and provide a range of k values from 1-10 to ensure the selected k performs consistently on the training data before implementing the model on the testing data."
   ]
  },
  {
   "cell_type": "code",
   "execution_count": null,
   "id": "7087ee60-fb83-4171-bbc8-1939a23cd811",
   "metadata": {},
   "outputs": [],
   "source": []
  }
 ],
 "metadata": {
  "kernelspec": {
   "display_name": "R",
   "language": "R",
   "name": "ir"
  },
  "language_info": {
   "codemirror_mode": "r",
   "file_extension": ".r",
   "mimetype": "text/x-r-source",
   "name": "R",
   "pygments_lexer": "r",
   "version": "4.3.3"
  }
 },
 "nbformat": 4,
 "nbformat_minor": 5
}
