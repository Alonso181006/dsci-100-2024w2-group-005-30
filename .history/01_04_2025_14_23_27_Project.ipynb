{
 "cells": [
  {
   "cell_type": "markdown",
   "id": "3eadbb4b-20ea-49fb-9935-050a2d8f256f",
   "metadata": {},
   "source": [
    "**<ins>Introduction</ins>**\n",
    "=="
   ]
  },
  {
   "cell_type": "markdown",
   "id": "a31a3ed2-8f3e-473a-b0f2-4195f1426382",
   "metadata": {},
   "source": [
    "**<ins>Methods & Results</ins>**\n",
    "=="
   ]
  },
  {
   "cell_type": "code",
   "execution_count": null,
   "id": "569509d7-e641-4f2f-801f-cad7703e2ad5",
   "metadata": {},
   "outputs": [],
   "source": [
    "### Run this cell before continuing. \n",
    "library(tidyverse)\n",
    "library(tidymodels)\n",
    "library(repr)\n",
    "library(RColorBrewer)\n",
    "library(gridExtra)\n",
    "options(repr.matrix.max.rows = 6)\n",
    "source(\"cleanup.R\")"
   ]
  },
  {
   "cell_type": "code",
   "execution_count": null,
   "id": "e7a19cd8-56dd-4807-90ca-6260cff5482d",
   "metadata": {},
   "outputs": [],
   "source": [
    "players_url <- \"https://raw.githubusercontent.com/Alonso181006/Individual-Project/refs/heads/main/players.csv\"\n",
    "sessions_url <- \"https://raw.githubusercontent.com/Alonso181006/Individual-Project/refs/heads/main/sessions.csv\"\n",
    "players_data <- read_csv(players_url)\n",
    "sessions_data <- read_csv(sessions_url)\n",
    "players_data <- players_data"
   ]
  },
  {
   "cell_type": "code",
   "execution_count": null,
   "id": "3d573cbf-7046-4b8f-8b47-cffc12688946",
   "metadata": {},
   "outputs": [],
   "source": [
    "# Wrangling Data for the Plot\n",
    "players_data_ranks <- players_data |>\n",
    "    mutate(rank = as.integer(factor(experience, \n",
    "                                      levels = c(\"Beginner\", \"Amateur\", \"Regular\", \"Veteran\", \"Pro\"))), \n",
    "          subs = as.integer(factor(subscribe, levels = c(\"FALSE\", \"TRUE\"))))\n",
    "# Finding average played hours based on rank and subscription\n",
    "players_data_avg_hours <- players_data_ranks |>\n",
    "  group_by(rank, subscribe) |>\n",
    "  summarise(mean_hours = mean(played_hours, na.rm = TRUE)) |>\n",
    "  ungroup()\n",
    "\n",
    "# Visualize average hours against experience level\n",
    "players_plot_outliers <- players_data_avg_hours |>\n",
    "    ggplot(aes(x = rank, y = mean_hours, color = subscribe)) +\n",
    "    geom_line() +\n",
    "    geom_point(size = 3) +\n",
    "    labs(x = \"Experience Level\", y = \"Mean Hours Played\", color = \"Subscription\", title = \"Avg Hrs Played by Rank and Subscription (Outliers)\") +\n",
    "    theme(text = element_text(size = 14))\n",
    "players_plot_outliers\n",
    "\n",
    "# Remove Outliers\n",
    "players_data_low_hours <- players_data_ranks |>\n",
    "    filter(played_hours < 5)\n",
    "\n",
    "# Finding average played hours based on rank and subscription without outliers\n",
    "players_data_avg_low_hours <- players_data_low_hours |>\n",
    "  group_by(rank, subscribe) |>\n",
    "  summarise(mean_hours = mean(played_hours, na.rm = TRUE)) |>\n",
    "  ungroup()\n",
    "\n",
    "# Visualize average hours against experience level\n",
    "players_plot_no_outliers <- players_data_avg_low_hours |>\n",
    "    ggplot(aes(x = rank, y = mean_hours, color = subscribe)) +\n",
    "    geom_line() +\n",
    "    geom_point(size = 3) +\n",
    "    labs(x = \"Experience Level\", y = \"Mean Hours Played\", color = \"Subscription\", title = \"Avg Hrs Played by Rank and Subscription (No Outliers)\") +\n",
    "    theme(text = element_text(size = 14))\n",
    "players_plot_no_outliers"
   ]
  },
  {
   "cell_type": "code",
   "execution_count": null,
   "id": "58c933cc-5bbf-4006-a4c4-9b380fd5e516",
   "metadata": {},
   "outputs": [],
   "source": [
    "players_data_ranks\n",
    "players_split <- initial_split(players_data_ranks, prop = 0.75, strata = played_hours)\n",
    "players_train <- training(players_split)\n",
    "players_test <- testing(players_split)\n",
    "\n",
    "players_recipe <- recipe(played_hours ~ rank + subs, data = players_train) |>\n",
    "    step_scale(all_predictors()) |>\n",
    "    step_center(all_predictors())\n",
    "\n",
    "players_spec <- nearest_neighbor(weight_func = \"rectangular\", neighbors = tune()) |>\n",
    "    set_engine(\"kknn\") |>\n",
    "    set_mode(\"regression\")\n",
    "\n",
    "players_vfold <- vfold_cv(players_train, v = 5, strat)\n"
   ]
  },
  {
   "cell_type": "markdown",
   "id": "d23d9105-01d4-4c3e-9ff3-1ada1f30afcd",
   "metadata": {},
   "source": [
    "**<ins>Discussion</ins>**\n",
    "=="
   ]
  },
  {
   "cell_type": "markdown",
   "id": "4767b9b7-46f5-4d24-ab37-d27a96397f70",
   "metadata": {},
   "source": [
    "**<ins>References</ins>**\n",
    "=="
   ]
  },
  {
   "cell_type": "code",
   "execution_count": null,
   "id": "7b04c169-df3d-459a-95de-c6a5fad275c5",
   "metadata": {},
   "outputs": [],
   "source": []
  }
 ],
 "metadata": {
  "kernelspec": {
   "display_name": "R",
   "language": "R",
   "name": "ir"
  },
  "language_info": {
   "codemirror_mode": "r",
   "file_extension": ".r",
   "mimetype": "text/x-r-source",
   "name": "R",
   "pygments_lexer": "r",
   "version": "4.3.3"
  }
 },
 "nbformat": 4,
 "nbformat_minor": 5
}
