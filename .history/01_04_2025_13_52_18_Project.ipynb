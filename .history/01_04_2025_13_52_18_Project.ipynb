{
 "cells": [
  {
   "cell_type": "code",
   "execution_count": null,
   "id": "1a5bda63-821e-4007-ac26-f6e9baf67fd2",
   "metadata": {},
   "outputs": [],
   "source": [
    "### Run this cell before continuing. \n",
    "library(tidyverse)\n",
    "library(repr)\n",
    "library(RColorBrewer)\n",
    "library(gridExtra)\n",
    "options(repr.matrix.max.rows = 6)\n",
    "source(\"cleanup.R\")"
   ]
  },
  {
   "cell_type": "code",
   "execution_count": null,
   "id": "99f78148-ae96-4e10-9079-75332b6afb1a",
   "metadata": {},
   "outputs": [],
   "source": [
    "players_url <- \"https://raw.githubusercontent.com/Alonso181006/Individual-Project/refs/heads/main/players.csv\"\n",
    "sessions_url <- \"https://raw.githubusercontent.com/Alonso181006/Individual-Project/refs/heads/main/sessions.csv\"\n",
    "players_data <- read_csv(players_url)\n",
    "sessions_data <- read_csv(sessions_url)\n",
    "players_data <- players_data"
   ]
  },
  {
   "cell_type": "code",
   "execution_count": null,
   "id": "3f4af846-01ca-4df9-afda-2ff8bcf01776",
   "metadata": {},
   "outputs": [],
   "source": [
    "# Wrangling Data for the Plot\n",
    "players_data_ranks <- players_data |>\n",
    "    mutate(rank = as.integer(factor(experience, \n",
    "                                      levels = c(\"Beginner\", \"Amateur\", \"Regular\", \"Veteran\", \"Pro\"))))\n",
    "\n",
    "# Finding average played hours based on rank and subscription\n",
    "players_data_avg_hours <- players_data_ranks |>\n",
    "  group_by(rank, subscribe) |>\n",
    "  summarise(mean_hours = mean(played_hours, na.rm = TRUE)) |>\n",
    "  ungroup()\n",
    "\n",
    "# Visualize average hours against experience level\n",
    "players_plot_outliers <- players_data_avg_hours |>\n",
    "    ggplot(aes(x = rank, y = mean_hours, color = subscribe)) +\n",
    "    geom_line() +\n",
    "    geom_point(size = 3) +\n",
    "    labs(x = \"Experience Level\", y = \"Mean Hours Played\", color = \"Subscription\", title = \"Avg Hrs Played by Rank and Subscription (Outliers)\") +\n",
    "    theme(text = element_text(size = 14))\n",
    "players_plot_outliers\n",
    "\n",
    "# Remove Outliers\n",
    "players_data_low_hours <- players_data_ranks |>\n",
    "    filter(played_hours < 5)\n",
    "\n",
    "# Finding average played hours based on rank and subscription without outliers\n",
    "players_data_avg_low_hours <- players_data_low_hours |>\n",
    "  group_by(rank, subscribe) |>\n",
    "  summarise(mean_hours = mean(played_hours, na.rm = TRUE)) |>\n",
    "  ungroup()\n",
    "\n",
    "# Visualize average hours against experience level\n",
    "players_plot_no_outliers <- players_data_avg_low_hours |>\n",
    "    ggplot(aes(x = rank, y = mean_hours, color = subscribe)) +\n",
    "    geom_line() +\n",
    "    geom_point(size = 3) +\n",
    "    labs(x = \"Experience Level\", y = \"Mean Hours Played\", color = \"Subscription\", title = \"Avg Hrs Played by Rank and Subscription (No Outliers)\") +\n",
    "    theme(text = element_text(size = 14))\n",
    "players_plot_no_outliers"
   ]
  },
  {
   "cell_type": "code",
   "execution_count": null,
   "id": "ed12c6f8-4325-42cc-8095-e2e44c5c0c10",
   "metadata": {},
   "outputs": [],
   "source": []
  }
 ],
 "metadata": {
  "kernelspec": {
   "display_name": "Python 3 (ipykernel)",
   "language": "python",
   "name": "python3"
  },
  "language_info": {
   "codemirror_mode": {
    "name": "ipython",
    "version": 3
   },
   "file_extension": ".py",
   "mimetype": "text/x-python",
   "name": "python",
   "nbconvert_exporter": "python",
   "pygments_lexer": "ipython3",
   "version": "3.11.9"
  }
 },
 "nbformat": 4,
 "nbformat_minor": 5
}
