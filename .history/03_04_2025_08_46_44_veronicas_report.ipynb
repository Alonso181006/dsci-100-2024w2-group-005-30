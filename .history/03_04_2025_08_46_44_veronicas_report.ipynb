{
 "cells": [
  {
   "cell_type": "markdown",
   "id": "fad5bce4-4528-4168-a164-19a44941b5a5",
   "metadata": {},
   "source": [
    "**<ins>1. Data Description:</ins>**\n",
    "===\n",
    "---"
   ]
  },
  {
   "cell_type": "markdown",
   "id": "6aa14eaf-a4a6-46e5-a8df-425e1d7a4ce6",
   "metadata": {},
   "source": [
    "<ins>players.csv</ins> Dataset\n",
    "---\n",
    "\n",
    "Observations: 196\n",
    "\n",
    "Variables (7):\n",
    "\n",
    "| Variable               | Type                | Description  |\n",
    "|------------------------|---------------------|--------------|\n",
    "| **experience**         |<chr\\>| Player's level of in-game experience.|\n",
    "| **subscribe**          |<lgl\\>| Indicates if player is subscribed to in-game newsletters.|\n",
    "| **hashedEmail**        |<chr\\>| Player's anonymous email.|\n",
    "| **played_hours**       |<dbl\\>| Time playing session started (relative).|\n",
    "| **name**               |<chr\\>| Player's in-game name.|\n",
    "| **gender**             |<chr\\>| Player's gender.|\n",
    "| **Age**                |<dbl\\>| Player's age.|\n",
    "\n",
    "Issues: \n",
    "\n",
    "- Presence of outliers in played_hours may skew data analysis.\n",
    "- experience is a character type instead of factor.\n",
    "\n",
    "Summary Statistics are computed in Part 3."
   ]
  },
  {
   "cell_type": "markdown",
   "id": "d5bbf581-eb1d-4043-8f32-e1ceefde704e",
   "metadata": {},
   "source": [
    "<ins>sessions.csv</ins> Dataset\n",
    "---\n",
    "\n",
    "Observations: 1535\n",
    "\n",
    "Variables (5):\n",
    "\n",
    "| Variable               | Type                | Description  |\n",
    "|------------------------|---------------------|--------------|\n",
    "| **hashedEmail**        |<chr\\>| Player's anonymous email.|\n",
    "| **start_time**         |<chr\\>| Time playing session started (relative).|\n",
    "| **end_time**           |<chr\\>| Time playing session ended (relative).|\n",
    "| **original_start_time**|<dbl\\>| Time playing session started (absolute).|\n",
    "| **original_end_time**  |<dbl\\>| Time playing session ended (absolute).|\n",
    "\n",
    "Issues: \n",
    "\n",
    "- start_time and end_time contain more than one value per cell (date and time).\n",
    "- start_time and end_time are non-numeric types."
   ]
  },
  {
   "cell_type": "markdown",
   "id": "231428ee-0383-40a3-8e97-3415cc021594",
   "metadata": {},
   "source": [
    "---\n",
    "The data were collected by a research group in Computer Science at UBC, led by Frank Wood, through a MineCraft server where players' in-game actions were recorded as they navigated through the game. "
   ]
  },
  {
   "cell_type": "markdown",
   "id": "637a53e6-a7e1-48fa-9828-9052d199688a",
   "metadata": {},
   "source": [
    "**<ins>2. Questions:</ins>**\n",
    "===\n",
    "---"
   ]
  },
  {
   "cell_type": "markdown",
   "id": "d6001ee7-4903-4954-967b-aaf8bb249c52",
   "metadata": {},
   "source": [
    "**Broad:**\n",
    "What player characteristics and behaviors are most predictive of subscribing to a game-related newsletter, and how do these features differ between various player types?\n",
    "\n",
    "**Specific:**\n",
    "Can a player's playtime and age predict whether they subscribe to the game-related newsletter in players.csv?"
   ]
  },
  {
   "cell_type": "markdown",
   "id": "9ed2095a-d570-459c-89d2-15442020600e",
   "metadata": {},
   "source": [
    "#### Addressing the Question\n",
    "\n",
    "The response variable is subscribe (TRUE/FALSE), with age and played_hours as predictors. K-NN classification will be used to identify patterns in player behavior to predict subscription likelihood."
   ]
  },
  {
   "cell_type": "markdown",
   "id": "3afbfc79-79d1-4fc8-82b7-2670e8aec532",
   "metadata": {},
   "source": [
    "#### Wrangling Plan\n",
    "\n",
    "The data will be standardized so that Age and played_hours are on the same scale. Only subscribe, played_hours, and Age will be kept, and subscribe will be converted to a factor for classification."
   ]
  },
  {
   "cell_type": "markdown",
   "id": "6e029cf2-9eb2-468c-ba38-ebaa468fd2a4",
   "metadata": {},
   "source": [
    "**<ins>3. Exploratory Data Analysis and Visualization:</ins>**\n",
    "===\n",
    "---"
   ]
  },
  {
   "cell_type": "markdown",
   "id": "d871f745-5971-40aa-beea-55112f10364b",
   "metadata": {},
   "source": [
    "### Loading ***tidyverse*** library and reading data sets"
   ]
  },
  {
   "cell_type": "code",
   "execution_count": null,
   "id": "0c8fa83e-d468-47c2-9ee6-5667eef33de7",
   "metadata": {},
   "outputs": [],
   "source": [
    "library(tidyverse)\n",
    "\n",
    "players_url <- \"https://raw.githubusercontent.com/veronicahzh/dsci100-groupproject30/refs/heads/main/players.csv\"\n",
    "sessions_url <- \"https://raw.githubusercontent.com/veronicahzh/dsci100-groupproject30/refs/heads/main/sessions.csv\"\n",
    "\n",
    "players <- read_csv(file = players_url)\n",
    "sessions <- read_csv(file = sessions_url)\n",
    "\n",
    "head(players)\n",
    "head(sessions)"
   ]
  },
  {
   "cell_type": "markdown",
   "id": "2ab2eebe-fa93-4597-ba55-ef8c74a5e7e8",
   "metadata": {},
   "source": [
    "### Wrangling Data Into a Tidy Format\n",
    "\n",
    "Since the <ins>players.csv</ins> dataset is already tidy, there is no need for additional wrangling."
   ]
  },
  {
   "cell_type": "markdown",
   "id": "82dea4db-6099-4f61-9f59-ad612e714c23",
   "metadata": {},
   "source": [
    "### Computing summary statistics all quantitative variables (played_hours, Age) in <ins>players.csv</ins>"
   ]
  },
  {
   "cell_type": "code",
   "execution_count": null,
   "id": "d55a4527-2311-4be1-a453-d74c573881f4",
   "metadata": {},
   "outputs": [],
   "source": [
    "# storing the selected columns in a variable\n",
    "players_selected <- select(players, played_hours, Age)\n",
    "\n",
    "# calculating the mean\n",
    "players_mean <- players_selected |>\n",
    "    map_df(mean, na.rm = TRUE) |>\n",
    "    rename(mean_played_hours = played_hours, mean_Age = Age)\n",
    "\n",
    "players_mean\n",
    "\n",
    "# calculating the median\n",
    "players_median <- players_selected |>\n",
    "    map_df(median, na.rm = TRUE) |>\n",
    "    rename(median_played_hours = played_hours, median_Age = Age)\n",
    "\n",
    "# calculating the mode\n",
    "players_mode <- players_selected |>\n",
    "    map_df(mode) |>\n",
    "    rename(mode_played_hours = played_hours, mode_Age = Age)\n",
    "\n",
    "# calculating the Standard Deviation (SD)\n",
    "players_sd <- players_selected |>\n",
    "    map_df(sd, na.rm = TRUE) |>\n",
    "    rename(sd_played_hours = played_hours, sd_Age = Age)\n",
    "\n",
    "# calculating the min \n",
    "players_min <- players_selected |>\n",
    "    map_df(min, na.rm = TRUE) |>\n",
    "    rename(min_played_hours = played_hours, min_Age = Age)\n",
    "\n",
    "# calculating the max\n",
    "players_max <- players_selected |>\n",
    "    map_df(max, na.rm = TRUE) |>\n",
    "    rename(max_played_hours = played_hours, max_Age = Age)\n",
    "\n",
    "# all summary statistics of played_hours and Age\n",
    "summary_combined <- bind_cols(players_mean, players_median, players_mode, players_sd, players_max, players_min)\n",
    "summary_combined"
   ]
  },
  {
   "cell_type": "markdown",
   "id": "a681d37b-aa53-443e-b36a-45c4e4502161",
   "metadata": {},
   "source": [
    "### Exploratory Visualizations of <ins>players.csv</ins>"
   ]
  },
  {
   "cell_type": "markdown",
   "id": "22da1a6e-8f27-4665-95c7-c1a1cbe0e2d8",
   "metadata": {},
   "source": [
    "#### Plot of total time played (in hours) vs age (in years), colored by subscription\n",
    "\n",
    "This scatter plot shows a non-linear relationship between the 2 predictor variables, played_hours and Age, with noticeable outliers in time played."
   ]
  },
  {
   "cell_type": "code",
   "execution_count": null,
   "id": "08c9a679-d8b7-4a4b-a8ef-d1cd00b54901",
   "metadata": {},
   "outputs": [],
   "source": [
    "library(RColorBrewer)\n",
    "options(repr.plot.width = 10, repr.plot.height = 10)\n",
    "\n",
    "age_vs_hours_sub <- players |>\n",
    "    ggplot(aes(x = Age, y = played_hours, color = subscribe)) +\n",
    "    geom_point() +\n",
    "    labs(x = \"Age (years)\", y = \"Total Time Played (hours)\", color = \"Subscription Status\") +\n",
    "    ggtitle(\"Plot of Total Time Played vs Age\") +\n",
    "    theme(text = element_text(size = 15)) +\n",
    "    scale_color_brewer(palette = \"Set2\")\n",
    "\n",
    "age_vs_hours_sub"
   ]
  },
  {
   "cell_type": "markdown",
   "id": "0776213c-8978-4d28-97b4-861159d6a508",
   "metadata": {},
   "source": [
    "#### Distribution of total time played (in hours), colored by subscription status\n",
    "\n",
    "This plot shows subscription status by playtime, indicating that subscribers play more than non-subscribers."
   ]
  },
  {
   "cell_type": "code",
   "execution_count": null,
   "id": "9868010e-803d-4c58-a666-8909ae31bc6b",
   "metadata": {},
   "outputs": [],
   "source": [
    "options(repr.plot.width = 10, repr.plot.height = 10)\n",
    "\n",
    "# summarize total played hours by subscription status\n",
    "total_playtime <- players |>\n",
    "    group_by(subscribe) |>\n",
    "    summarize(total_hours = sum(played_hours, na.rm = TRUE))\n",
    "\n",
    "# bar plot\n",
    "hrs_by_sub <- total_playtime |>\n",
    "    ggplot(aes(x = subscribe, y = total_hours, fill = subscribe)) +\n",
    "    geom_bar(stat = \"identity\") +\n",
    "    labs(x = \"Subscribed?\", y = \"Total Time Played (hours)\", fill = \"Subscription Status\") +\n",
    "    ggtitle(\"Plot of Total Time Played by Subscription Status\") +\n",
    "    theme(text = element_text(size = 15)) +\n",
    "    scale_fill_brewer(palette = \"Set2\")\n",
    "\n",
    "hrs_by_sub"
   ]
  },
  {
   "cell_type": "markdown",
   "id": "97f991b8-8972-4d49-8531-84982747493f",
   "metadata": {},
   "source": [
    "#### Distribution of age (in years) vs number of subscribers, colored by subscription status\n",
    "\n",
    "This plot shows subscriber count by age, indicating most subscribers are between 15-25 years old."
   ]
  },
  {
   "cell_type": "code",
   "execution_count": null,
   "id": "3d0e2c43-e1c9-4349-aae8-f78b333fef6d",
   "metadata": {},
   "outputs": [],
   "source": [
    "options(repr.plot.width = 10, repr.plot.height = 10)\n",
    "\n",
    "age_by_sub <- players |>\n",
    "    ggplot(aes(x = Age, fill = subscribe)) +\n",
    "    geom_histogram(binwidth = 2, position = \"identity\") +\n",
    "    labs(x = \"Age (years)\", y = \"Number of Subscribers\", fill = \"Subscription Status\") +\n",
    "    ggtitle(\"Plot of Age by Subscription Status\") +\n",
    "    theme(text = element_text(size = 15)) +\n",
    "    scale_fill_brewer(palette = \"Set2\")\n",
    "\n",
    "age_by_sub"
   ]
  },
  {
   "cell_type": "markdown",
   "id": "86572f6b-bb2e-4025-996c-c7adea0a4d6c",
   "metadata": {},
   "source": [
    "**<ins>4. Methods and Plan:</ins>**\n",
    "===\n",
    "---"
   ]
  },
  {
   "cell_type": "markdown",
   "id": "e403d6ce-82dc-4052-9d30-3494dfa17c13",
   "metadata": {},
   "source": [
    "K-NN classification will predict subscription status using played_hours and Age as numeric predictors and subscribe as the categorical response variable. This method is appropriate because K-NN works with numeric inputs while predicting categorical outputs. The first exploratory plot above suggests a non-linear relationship between the predictors, making K-NN a better choice than linear regression, which assumes linearity. Since the goal is to classify subscription status rather than predict a continuous value, K-NN classification is used instead of K-NN regression.\n",
    "\n",
    "K-NN assumes that closer data points are more similar, which makes sense since players with similar playtime and age likely have similar engagement. However, K-NN is sensitive to outliers, can overfit with small k values, and slows down with larger datasets. Standardizing the data ensures both predictors contribute equally to distance calculations.\n",
    "\n",
    "The data will be split into 75% training and 25% testing. A 5-fold cross-validation will be used to fine-tune k, optimizing model performance while preventing overfitting. The training set will determine the best k, and the test set will evaluate final accuracy."
   ]
  }
 ],
 "metadata": {
  "kernelspec": {
   "display_name": "R",
   "language": "R",
   "name": "ir"
  },
  "language_info": {
   "codemirror_mode": "r",
   "file_extension": ".r",
   "mimetype": "text/x-r-source",
   "name": "R",
   "pygments_lexer": "r",
   "version": "4.3.3"
  }
 },
 "nbformat": 4,
 "nbformat_minor": 5
}
